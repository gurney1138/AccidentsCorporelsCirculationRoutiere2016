{
 "cells": [
  {
   "cell_type": "markdown",
   "metadata": {},
   "source": [
    "# Accidents Corporels de la Circulation Routière 2016\n",
    "\n",
    "Source: data.gouv.fr\n"
   ]
  },
  {
   "cell_type": "markdown",
   "metadata": {},
   "source": []
  },
  {
   "cell_type": "code",
   "execution_count": 1,
   "metadata": {},
   "outputs": [
    {
     "data": {
      "text/plain": [
       "['',\n",
       " '/home/11942h/AccidentsCorporelsCirculationRoutiere',\n",
       " '/produit/anaconda/anaconda353/lib/python37.zip',\n",
       " '/produit/anaconda/anaconda353/lib/python3.7',\n",
       " '/produit/anaconda/anaconda353/lib/python3.7/lib-dynload',\n",
       " '/produit/anaconda/anaconda353/lib/python3.7/site-packages',\n",
       " '/produit/anaconda/anaconda353/lib/python3.7/site-packages/IPython/extensions',\n",
       " '/home/11942h/.ipython']"
      ]
     },
     "execution_count": 1,
     "metadata": {},
     "output_type": "execute_result"
    }
   ],
   "source": [
    "import os\n",
    "os.sys.path  # Répertoires où sont cherchés les modules\n",
    "#os.getcwd() # Répertoire de travail"
   ]
  },
  {
   "cell_type": "code",
   "execution_count": 2,
   "metadata": {},
   "outputs": [],
   "source": [
    "### Les packages  \n",
    "import time\n",
    "import numpy as np \n",
    "import pandas as pd\n",
    "import seaborn as sns\n",
    "import matplotlib.pyplot as plt\n",
    "%matplotlib inline\n",
    "\n",
    "\n",
    "### Les options générales\n",
    "pd.set_option(\"display.max_columns\", 99) # permet de voir toutes les colonnes\n"
   ]
  },
  {
   "cell_type": "code",
   "execution_count": 3,
   "metadata": {},
   "outputs": [
    {
     "name": "stderr",
     "output_type": "stream",
     "text": [
      "/produit/anaconda/anaconda353/lib/python3.7/site-packages/IPython/core/interactiveshell.py:2714: DtypeWarning: Columns (2) have mixed types. Specify dtype option on import or set low_memory=False.\n",
      "  interactivity=interactivity, compiler=compiler, result=result)\n"
     ]
    }
   ],
   "source": [
    "### Chargement des données\n",
    "\n",
    "#Impossible de charger le fichier caractéristiques avec l'ensemble des colonnes\n",
    "d1 = pd.read_csv(\"caracteristiques_2016_col_reduit.csv\" #59 432\n",
    "                 ,sep=','\n",
    "                 ,header='infer'\n",
    "                 ,encoding='utf-8')\n",
    "\n",
    "d2 = pd.read_csv(\"lieux_2016.csv\" #59 432\n",
    "                 ,sep=','\n",
    "                 ,header='infer'\n",
    "                 ,encoding='utf-8')\n",
    "\n",
    "d3 = pd.read_csv(\"vehicules_2016.csv\" #101 924\n",
    "                 ,sep=','\n",
    "                 ,header='infer'\n",
    "                 ,encoding='utf-8')\n",
    "\n",
    "d4 = pd.read_csv(\"usagers_2016.csv\" #133 422\n",
    "                 ,sep=','\n",
    "                 ,header='infer'\n",
    "                 ,encoding='utf-8')"
   ]
  },
  {
   "cell_type": "code",
   "execution_count": 4,
   "metadata": {},
   "outputs": [
    {
     "data": {
      "text/plain": [
       "1     3185\n",
       "2      174\n",
       "3       27\n",
       "4        3\n",
       "5        1\n",
       "6        2\n",
       "12       1\n",
       "Name: nb_tues, dtype: int64"
      ]
     },
     "execution_count": 4,
     "metadata": {},
     "output_type": "execute_result"
    }
   ],
   "source": [
    "\n",
    "### Recodages\n",
    "#d1 Caractéristiques de l'accident\n",
    "d1['lum'].value_counts().sort_index()\n",
    "lum_map = {1:'Plein jour'\n",
    "           ,2:'Crépuscule ou aube'\n",
    "           ,3:'Nuit sans éclairage public'\n",
    "           ,4:'Nuit avec éclairage public non allumé'\n",
    "           ,5:'Nuit avec éclairage public allumé'\n",
    "           }\n",
    "d1['lumiere_c'] = d1['lum'].map(lum_map)\n",
    "d1.head(10)\n",
    "d1['lumiere_c'].value_counts().sort_index()\n",
    "\n",
    "d1['agg'].value_counts().sort_index()\n",
    "agg_map = {1:'Hors agglomération'\n",
    "           ,2:'En agglomération'\n",
    "           }\n",
    "d1['agglo_c'] = d1['agg'].map(agg_map)\n",
    "d1['agglo_c'].value_counts().sort_index()\n",
    "\n",
    "d1['int'].value_counts().sort_index()\n",
    "int_map = {1:'Hors intersection'\n",
    "           ,2:'Intersection en X'\n",
    "           ,3:'Intersection en T'\n",
    "           ,4:'Intersection en Y'\n",
    "           ,5:'Intersection à plus de 4 branches'\n",
    "           ,6:'Giratoire'\n",
    "           ,7:'Place'\n",
    "           ,8:'Passage à niveau'\n",
    "           ,9:'Autre intersection'\n",
    "           }\n",
    "d1['intersection_c'] = d1['int'].map(int_map)\n",
    "d1['intersection_c'].value_counts().sort_index()\n",
    "\n",
    "d1['atm'].value_counts().sort_index() # Conditions atmosphériques\n",
    "atm_map = {1:'Normale'\n",
    "           ,2:'Pluie légère'\n",
    "           ,3:'Pluie forte'\n",
    "           ,4:'Neige - grêle'\n",
    "           ,5:'Brouillard - fumée'\n",
    "           ,6:'Vent fort - tempête'\n",
    "           ,7:'Temps éblouissant'\n",
    "           ,8:'Temps couvert'\n",
    "           ,9:'Autre'\n",
    "           }\n",
    "d1['cond_atm_c'] = d1['atm'].map(atm_map)\n",
    "d1['cond_atm_c'].value_counts().sort_index()\n",
    "\n",
    "d1['col'].value_counts().sort_index()\n",
    "col_map = {1:'Deux véhicules - frontale'\n",
    "           ,2:'Deux véhicules – par l’arrière'\n",
    "           ,3:'Deux véhicules – par le coté'\n",
    "           ,4:'Trois véhicules et plus – en chaîne'\n",
    "           ,5:'Trois véhicules et plus - collisions multiples'\n",
    "           ,6:'Autre collision'\n",
    "           ,7:'Sans collision'\n",
    "           ,8:'Passage à niveau'\n",
    "           }\n",
    "d1['collision_c'] = d1['col'].map(col_map)\n",
    "d1['collision_c'].value_counts().sort_index()\n",
    "\n",
    "\n",
    "#d2 Lieux de l'accident\n",
    "d2.head(10)\n",
    "d2.columns\n",
    "d2.describe()\n",
    "\n",
    "catr_map = {1:'Autoroute'\n",
    "           ,2:'Route Nationale'\n",
    "           ,3:'Route Départementale'\n",
    "           ,4:'Voie Communale'\n",
    "           ,5:'Hors réseau public'\n",
    "           ,6:'Parc de stationnement'\n",
    "           ,9:'autre'\n",
    "           }\n",
    "d2['categorie_route_c'] = d2['catr'].map(catr_map)\n",
    "d2['categorie_route_c'].value_counts().sort_index()\n",
    "\n",
    "circ_map = {1:'A sens unique'\n",
    "           ,2:'Bidirectionnelle'\n",
    "           ,3:'A chaussées séparées'\n",
    "           ,4:'Avec voies d’affectation variable'\n",
    "           }\n",
    "d2['circulation_c'] = d2['circ'].map(circ_map)\n",
    "d2['circulation_c'].value_counts().sort_index()\n",
    "\n",
    "d2['nbv'].value_counts().sort_index()# Nombre de voies\n",
    "\n",
    "prof_map = {1:'Plat'\n",
    "           ,2:'Pente'\n",
    "           ,3:'Sommet de côte'\n",
    "           ,4:'Bas de côte'\n",
    "           }\n",
    "d2['profil_c'] = d2['prof'].map(prof_map)\n",
    "d2['profil_c'].value_counts().sort_index()\n",
    "\n",
    "surf_map = {1:'normale'\n",
    "           ,2:'mouillée'\n",
    "           ,3:'flaques'\n",
    "           ,4:'inondée'\n",
    "           ,5:'enneigée'\n",
    "           ,6:'boue'\n",
    "           ,7:'verglacée'\n",
    "           ,8:'corps gras - huile'\n",
    "           ,9:'autre'\n",
    "           }\n",
    "d2['etat_surface_c'] = d2['surf'].map(surf_map)\n",
    "d2['etat_surface_c'].value_counts().sort_index()\n",
    "\n",
    "infra_map = {0:'Rien'\n",
    "           ,1:'Souterrain - tunnel'\n",
    "           ,2:'Pont - autopont'\n",
    "           ,3:'Bretelle d echangeur ou de raccordement'\n",
    "           ,4:'Voie ferrée'\n",
    "           ,5:'Carrefour aménagé'\n",
    "           ,6:'Zone piétonne'\n",
    "           ,7:'Zone de péage'\n",
    "           }\n",
    "d2['infrastructure_c'] = d2['infra'].map(infra_map)\n",
    "d2['infrastructure_c'].value_counts().sort_index()\n",
    "\n",
    "situ_map = {1:'Sur chaussée'\n",
    "           ,2:'Sur bande d’arrêt d’urgence'\n",
    "           ,3:'Sur accotement'\n",
    "           ,4:'Sur trottoir'\n",
    "           ,5:'Sur piste cyclable'\n",
    "           }\n",
    "d2['situation_c'] = d2['situ'].map(situ_map)\n",
    "d2['situation_c'].value_counts().sort_index()\n",
    "\n",
    "\n",
    "#d3 Véhicules accidentés\n",
    "\n",
    "d3.head()\n",
    "d3.describe()\n",
    "\n",
    "d3b = d3.groupby(['Num_Acc']).size().reset_index(name='nb_veh')\n",
    "d3b.head()\n",
    "d3b['nb_veh'].value_counts().sort_index()\n",
    "\n",
    "\n",
    "#d4 Usagers\n",
    "\n",
    "d4.head()\n",
    "d4.describe()\n",
    "\n",
    "d4b = d4.groupby(['Num_Acc']).size().reset_index(name='nb_usagers')\n",
    "d4b.head()\n",
    "d4b['nb_usagers'].value_counts().sort_index()\n",
    "\n",
    "d4c = d4[(d4.grav == 2)].groupby(['Num_Acc']).size().reset_index(name='nb_tues')\n",
    "d4c.head()\n",
    "d4c['nb_tues'].value_counts().sort_index()\n",
    "\n"
   ]
  },
  {
   "cell_type": "code",
   "execution_count": 5,
   "metadata": {},
   "outputs": [
    {
     "data": {
      "text/plain": [
       "array([<matplotlib.axes._subplots.AxesSubplot object at 0x7f8081086b38>,\n",
       "       <matplotlib.axes._subplots.AxesSubplot object at 0x7f8081047e10>],\n",
       "      dtype=object)"
      ]
     },
     "execution_count": 5,
     "metadata": {},
     "output_type": "execute_result"
    },
    {
     "data": {
      "image/png": "[encoded data removed]",
      "text/plain": [
       "<Figure size 432x288 with 1 Axes>"
      ]
     },
     "metadata": {
      "needs_background": "light"
     },
     "output_type": "display_data"
    },
    {
     "data": {
      "text/plain": [
       "<Figure size 432x288 with 0 Axes>"
      ]
     },
     "metadata": {},
     "output_type": "display_data"
    },
    {
     "data": {
      "image/png": "[encoded data removed]",
      "text/plain": [
       "<Figure size 432x288 with 2 Axes>"
      ]
     },
     "metadata": {
      "needs_background": "light"
     },
     "output_type": "display_data"
    }
   ],
   "source": [
    "\n",
    "### Constitution du dataframe de travail\n",
    "\n",
    "# Liste des variables retenus\n",
    "lv1 = ['Num_Acc','an','mois','jour','lum','agg']\n",
    "lv2 = ['Num_Acc','catr','circ','prof','surf','infra','situ']\n",
    "\n",
    "d10 = pd.merge(d1[lv1], d2[lv2]\n",
    "               ,how='inner'\n",
    "               ,on='Num_Acc'\n",
    "               )\n",
    "\n",
    "d11 = pd.merge(d10, d3b\n",
    "               ,how='inner'\n",
    "               ,on='Num_Acc'\n",
    "               )\n",
    "\n",
    "d12 = pd.merge(d11, d4b\n",
    "               ,how='left'\n",
    "               ,on='Num_Acc'\n",
    "               )\n",
    "\n",
    "d13 = pd.merge(d12, d4c\n",
    "               ,how='left'\n",
    "               ,on='Num_Acc'\n",
    "               )\n",
    "\n",
    "d13.head(10)\n",
    "\n",
    "#Remplissage des non renseignés\n",
    "d19 = d13.fillna(0)\n",
    "d19.head()\n",
    "d19.describe()\n",
    "d19['nb_tues'].value_counts().sort_index()\n",
    "\n",
    "plt.figure()\n",
    "d19['mois'].plot(kind='hist')\n",
    "\n",
    "#Pour les besoins de cette étude, il n'y aura pas d'échantillons d'apprentissage et de test\n",
    "# mais je garde les dénominations _train néanmoins pour la réutilisation des programmes\n",
    "\n",
    "Y_train = d19['nb_tues'] > 0\n",
    "pd.crosstab(d19['nb_tues'], Y_train) # Vérification du recodage\n",
    "\n",
    "var_num = d19.columns.tolist() # Il n'y a que des variables numériques par construction\n",
    "var_num\n",
    "var_num = [e for e in var_num if e not in ('Num_Acc', 'nb_tues')]\n",
    "var_num\n",
    "\n",
    "X_train = d19[var_num]\n",
    "\n",
    "plt.figure()\n",
    "X_train['mois'].hist(by=Y_train)"
   ]
  },
  {
   "cell_type": "code",
   "execution_count": 6,
   "metadata": {},
   "outputs": [
    {
     "name": "stderr",
     "output_type": "stream",
     "text": [
      "/produit/anaconda/anaconda353/lib/python3.7/site-packages/sklearn/ensemble/weight_boosting.py:29: DeprecationWarning: numpy.core.umath_tests is an internal NumPy module and should not be imported. It will be removed in a future NumPy release.\n",
      "  from numpy.core.umath_tests import inner1d\n"
     ]
    }
   ],
   "source": [
    "### Modélisation\n",
    "\n",
    "\n",
    "# Random Forect\n",
    "from sklearn.ensemble import RandomForestClassifier\n",
    "from sklearn.metrics import roc_curve\n",
    "from sklearn.metrics import auc\n",
    "\n"
   ]
  },
  {
   "cell_type": "code",
   "execution_count": 7,
   "metadata": {},
   "outputs": [
    {
     "name": "stdout",
     "output_type": "stream",
     "text": [
      " Auc :  0.9531371690551473\n"
     ]
    },
    {
     "data": {
      "image/png": "[encoded data removed]",
      "text/plain": [
       "<Figure size 432x288 with 1 Axes>"
      ]
     },
     "metadata": {
      "needs_background": "light"
     },
     "output_type": "display_data"
    }
   ],
   "source": [
    "#Modèle retenu\n",
    "model_rfc = RandomForestClassifier(\n",
    "                n_estimators=100,       #Number of trees in the foret\n",
    "                max_depth=16,           #Number of level in each decision tree\n",
    "                min_samples_leaf= 1,    #Number of data points allow in a leaf node\n",
    "                min_samples_split= 2,   #Number of data points placed in a node before the node is split\n",
    "                max_features='sqrt',    #max number of features considered for splitting a node\n",
    "                bootstrap=False)  \n",
    "\n",
    "model_rfc.fit(X_train,Y_train)\n",
    "\n",
    "fpr, tpr, thresholds = roc_curve(Y_train, model_rfc.predict_proba(X_train)[:,1])\n",
    "print(' Auc : ', auc(fpr, tpr))\n",
    "# Auc :  0.9542215970839263\n",
    "\n",
    "roc_auc = auc(fpr, tpr)\n",
    "plt.figure()\n",
    "lw = 2\n",
    "plt.plot(fpr, tpr, color='darkorange',\n",
    "         lw=lw, label='ROC curve (area = %0.2f)' % roc_auc)\n",
    "plt.plot([0, 1], [0, 1], color='navy', lw=lw, linestyle='--')\n",
    "plt.xlim([0.0, 1.0])\n",
    "plt.ylim([0.0, 1.05])\n",
    "plt.xlabel('False Positive Rate')\n",
    "plt.ylabel('True Positive Rate')\n",
    "plt.title('Receiver operating characteristic')\n",
    "plt.legend(loc=\"lower right\")\n",
    "plt.show()"
   ]
  },
  {
   "cell_type": "code",
   "execution_count": 9,
   "metadata": {},
   "outputs": [
    {
     "name": "stdout",
     "output_type": "stream",
     "text": [
      "an = 0.0\n",
      "mois = 0.1409657122035498\n",
      "jour = 0.20204441028609185\n",
      "lum = 0.06069523333338075\n",
      "agg = 0.07300151007076244\n",
      "catr = 0.10334655221611623\n",
      "circ = 0.061313209322157815\n",
      "prof = 0.05930460460007405\n",
      "surf = 0.061350355366284005\n",
      "infra = 0.04096129565305052\n",
      "situ = 0.06238845511522196\n",
      "nb_veh = 0.044549055134017766\n",
      "nb_usagers = 0.09007960669929288\n"
     ]
    },
    {
     "data": {
      "image/png": "[encoded data removed]",
      "text/plain": [
       "<Figure size 432x288 with 1 Axes>"
      ]
     },
     "metadata": {
      "needs_background": "light"
     },
     "output_type": "display_data"
    }
   ],
   "source": [
    "# Importance des variables\n",
    "model_rfc.feature_importances_\n",
    "\n",
    "for name, importance in zip(X_train.columns, model_rfc.feature_importances_):\n",
    "    print(name, \"=\", importance)\n",
    "\n",
    "features = X_train.columns\n",
    "importances = model_rfc.feature_importances_\n",
    "indices = np.argsort(importances)\n",
    "\n",
    "plt.title('Feature Importances')\n",
    "plt.barh(range(len(indices)), importances[indices], color='b', align='center')\n",
    "plt.yticks(range(len(indices)), [features[i] for i in indices])\n",
    "plt.xlabel('Relative Importance')\n",
    "plt.show()"
   ]
  },
  {
   "cell_type": "code",
   "execution_count": null,
   "metadata": {},
   "outputs": [],
   "source": []
  }
 ],
 "metadata": {
  "kernelspec": {
   "display_name": "FBE1",
   "language": "python",
   "name": "fbe1"
  },
  "language_info": {
   "codemirror_mode": {
    "name": "ipython",
    "version": 3
   },
   "file_extension": ".py",
   "mimetype": "text/x-python",
   "name": "python",
   "nbconvert_exporter": "python",
   "pygments_lexer": "ipython3",
   "version": "3.7.0"
  }
 },
 "nbformat": 4,
 "nbformat_minor": 2
}
